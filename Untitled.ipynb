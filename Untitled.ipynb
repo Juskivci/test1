{
 "cells": [
  {
   "cell_type": "code",
   "execution_count": 2,
   "id": "5fd881f6",
   "metadata": {},
   "outputs": [
    {
     "data": {
      "image/png": "[encoded data removed]",
      "text/plain": [
       "<Figure size 432x288 with 1 Axes>"
      ]
     },
     "metadata": {
      "needs_background": "light"
     },
     "output_type": "display_data"
    }
   ],
   "source": [
    "from tkinter import*\n",
    "import tkinter as tk\n",
    "from PIL import ImageTk, Image\n",
    "import numpy as np\n",
    "import matplotlib.pyplot as plt\n",
    "\n",
    "win=tk.Tk()\n",
    "win.title('Графік')\n",
    "win.geometry(\"400x400\")\n",
    "#matplotlib.use('TkAgg')\n",
    "def graph():\n",
    "    house_prices=np.random.normal(200000,25000,5000)\n",
    "    plt.hist(house_prices,50)\n",
    "    plt.show()\n",
    "\n",
    "button1=tk.Button(win, text='Розоділ', command=graph)\n",
    "button1.grid(row=0, column=0, stick='we', padx=20)\n",
    "\n",
    "win.mainloop()\n"
   ]
  },
  {
   "cell_type": "code",
   "execution_count": null,
   "id": "a8a55a02",
   "metadata": {},
   "outputs": [],
   "source": []
  }
 ],
 "metadata": {
  "kernelspec": {
   "display_name": "Python 3 (ipykernel)",
   "language": "python",
   "name": "python3"
  },
  "language_info": {
   "codemirror_mode": {
    "name": "ipython",
    "version": 3
   },
   "file_extension": ".py",
   "mimetype": "text/x-python",
   "name": "python",
   "nbconvert_exporter": "python",
   "pygments_lexer": "ipython3",
   "version": "3.8.5"
  }
 },
 "nbformat": 4,
 "nbformat_minor": 5
}
