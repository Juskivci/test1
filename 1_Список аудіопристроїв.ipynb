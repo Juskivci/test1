{
 "cells": [
  {
   "cell_type": "code",
   "execution_count": 1,
   "id": "9a199855",
   "metadata": {},
   "outputs": [
    {
     "name": "stdout",
     "output_type": "stream",
     "text": [
      "0 Microsoft Sound Mapper - Input\n",
      "1 Набор микрофонов (Synaptics Sma\n",
      "2 Microsoft Sound Mapper - Output\n",
      "3 Динамики (Synaptics SmartAudio \n",
      "4 Первичный драйвер записи звука\n",
      "5 Набор микрофонов (Synaptics SmartAudio HD)\n",
      "6 Первичный звуковой драйвер\n",
      "7 Динамики (Synaptics SmartAudio HD)\n",
      "8 Динамики (Synaptics SmartAudio HD)\n",
      "9 Набор микрофонов (Synaptics SmartAudio HD)\n",
      "10 Набор микрофонов (Conexant HD Audio capture)\n",
      "11 Speakers (Conexant HD Audio output)\n",
      "12 Линия ()\n",
      "13 Output (@System32\\drivers\\bthhfenum.sys,#4;%1 Hands-Free HF Audio%0\r\n",
      ";(Sergij Semenyuk (GT-I9))\n",
      "14 Input (@System32\\drivers\\bthhfenum.sys,#4;%1 Hands-Free HF Audio%0\r\n",
      ";(Sergij Semenyuk (GT-I9))\n",
      "15 Output (@System32\\drivers\\bthhfenum.sys,#4;%1 Hands-Free HF Audio%0\r\n",
      ";(HUAWEI Y5 2018))\n",
      "16 Input (@System32\\drivers\\bthhfenum.sys,#4;%1 Hands-Free HF Audio%0\r\n",
      ";(HUAWEI Y5 2018))\n",
      "17 Линия ()\n"
     ]
    }
   ],
   "source": [
    "import pyaudio\n",
    "p = pyaudio.PyAudio()\n",
    "for ii in range(p.get_device_count()):\n",
    "    print(ii, p.get_device_info_by_index(ii).get('name'))"
   ]
  },
  {
   "cell_type": "code",
   "execution_count": null,
   "id": "9027ec39",
   "metadata": {},
   "outputs": [],
   "source": []
  },
  {
   "cell_type": "code",
   "execution_count": null,
   "id": "73013e4f",
   "metadata": {},
   "outputs": [],
   "source": []
  }
 ],
 "metadata": {
  "kernelspec": {
   "display_name": "Python 3 (ipykernel)",
   "language": "python",
   "name": "python3"
  },
  "language_info": {
   "codemirror_mode": {
    "name": "ipython",
    "version": 3
   },
   "file_extension": ".py",
   "mimetype": "text/x-python",
   "name": "python",
   "nbconvert_exporter": "python",
   "pygments_lexer": "ipython3",
   "version": "3.8.5"
  }
 },
 "nbformat": 4,
 "nbformat_minor": 5
}
